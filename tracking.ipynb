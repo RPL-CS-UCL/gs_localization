{
 "cells": [
  {
   "cell_type": "code",
   "execution_count": 1,
   "id": "4a301fb7",
   "metadata": {},
   "outputs": [
    {
     "name": "stdout",
     "output_type": "stream",
     "text": [
      "Jupyter environment detected. Enabling Open3D WebVisualizer.\n",
      "[Open3D INFO] WebRTC GUI backend enabled.\n",
      "[Open3D INFO] WebRTCWindowSystem: HTTP handshake server disabled.\n"
     ]
    }
   ],
   "source": [
    "import os\n",
    "import sys\n",
    "import time\n",
    "from argparse import ArgumentParser\n",
    "from datetime import datetime\n",
    "\n",
    "import torch\n",
    "import torch.multiprocessing as mp\n",
    "import yaml\n",
    "import numpy as np\n",
    "from munch import munchify\n",
    "\n",
    "import wandb\n",
    "from gaussian_splatting.scene.gaussian_model import GaussianModel\n",
    "from gaussian_splatting.utils.system_utils import mkdir_p\n",
    "from gui import gui_utils, slam_gui\n",
    "from utils.config_utils import load_config\n",
    "from utils.dataset import load_dataset\n",
    "from utils.eval_utils import eval_ate, eval_rendering, save_gaussians\n",
    "from utils.logging_utils import Log\n",
    "from utils.multiprocessing_utils import FakeQueue\n",
    "from utils.slam_backend import BackEnd\n",
    "from utils.slam_frontend import FrontEnd\n",
    "\n",
    "\n",
    "class SLAM:\n",
    "    def __init__(self, config, save_dir=None):\n",
    "        start = torch.cuda.Event(enable_timing=True)\n",
    "        end = torch.cuda.Event(enable_timing=True)\n",
    "\n",
    "        start.record()\n",
    "\n",
    "        self.config = config\n",
    "        self.save_dir = save_dir\n",
    "        model_params = munchify(config[\"model_params\"])\n",
    "        opt_params = munchify(config[\"opt_params\"])\n",
    "        pipeline_params = munchify(config[\"pipeline_params\"])\n",
    "        self.model_params, self.opt_params, self.pipeline_params = (\n",
    "            model_params,\n",
    "            opt_params,\n",
    "            pipeline_params,\n",
    "        )\n",
    "\n",
    "        self.live_mode = self.config[\"Dataset\"][\"type\"] == \"realsense\"\n",
    "        self.monocular = self.config[\"Dataset\"][\"sensor_type\"] == \"monocular\"\n",
    "        self.use_spherical_harmonics = self.config[\"Training\"][\"spherical_harmonics\"]\n",
    "        self.use_gui = self.config[\"Results\"][\"use_gui\"]\n",
    "        if self.live_mode:\n",
    "            self.use_gui = True\n",
    "        self.eval_rendering = self.config[\"Results\"][\"eval_rendering\"]\n",
    "\n",
    "        model_params.sh_degree = 3 if self.use_spherical_harmonics else 0\n",
    "\n",
    "        self.gaussians = GaussianModel(model_params.sh_degree, config=self.config)\n",
    "        self.gaussians.init_lr(6.0)\n",
    "        self.dataset = load_dataset(\n",
    "            model_params, model_params.source_path, config=config\n",
    "        )\n",
    "\n",
    "        self.gaussians.training_setup(opt_params)\n",
    "        bg_color = [0, 0, 0]\n",
    "        self.background = torch.tensor(bg_color, dtype=torch.float32, device=\"cuda\")\n",
    "\n",
    "        frontend_queue = mp.Queue()\n",
    "        backend_queue = mp.Queue()\n",
    "\n",
    "        q_main2vis = mp.Queue() if self.use_gui else FakeQueue()\n",
    "        q_vis2main = mp.Queue() if self.use_gui else FakeQueue()\n",
    "\n",
    "        self.config[\"Results\"][\"save_dir\"] = save_dir\n",
    "        self.config[\"Training\"][\"monocular\"] = self.monocular\n",
    "\n",
    "        self.frontend = FrontEnd(self.config)\n",
    "        self.backend = BackEnd(self.config)\n",
    "\n",
    "        self.frontend.dataset = self.dataset\n",
    "        self.frontend.background = self.background\n",
    "        self.frontend.pipeline_params = self.pipeline_params\n",
    "        self.frontend.frontend_queue = frontend_queue\n",
    "        self.frontend.backend_queue = backend_queue\n",
    "        self.frontend.q_main2vis = q_main2vis\n",
    "        self.frontend.q_vis2main = q_vis2main\n",
    "        self.frontend.set_hyperparams()\n",
    "\n",
    "        self.backend.gaussians = self.gaussians\n",
    "        self.backend.background = self.background\n",
    "        self.backend.cameras_extent = 6.0\n",
    "        self.backend.pipeline_params = self.pipeline_params\n",
    "        self.backend.opt_params = self.opt_params\n",
    "        self.backend.frontend_queue = frontend_queue\n",
    "        self.backend.backend_queue = backend_queue\n",
    "        self.backend.live_mode = self.live_mode\n",
    "\n",
    "        self.backend.set_hyperparams()\n",
    "\n",
    "        self.params_gui = gui_utils.ParamsGUI(\n",
    "            pipe=self.pipeline_params,\n",
    "            background=self.background,\n",
    "            gaussians=self.gaussians,\n",
    "            q_main2vis=q_main2vis,\n",
    "            q_vis2main=q_vis2main,\n",
    "        )\n",
    "\n",
    "        backend_process = mp.Process(target=self.backend.run)\n",
    "        if self.use_gui:\n",
    "            gui_process = mp.Process(target=slam_gui.run, args=(self.params_gui,))\n",
    "            gui_process.start()\n",
    "            time.sleep(5)\n",
    "\n",
    "        backend_process.start()\n",
    "        self.frontend.run()\n",
    "        backend_queue.put([\"pause\"])\n",
    "\n",
    "        end.record()\n",
    "        torch.cuda.synchronize()\n",
    "        # empty the frontend queue\n",
    "        N_frames = len(self.frontend.cameras)\n",
    "        FPS = N_frames / (start.elapsed_time(end) * 0.001)\n",
    "        Log(\"Total time\", start.elapsed_time(end) * 0.001, tag=\"Eval\")\n",
    "        Log(\"Total FPS\", N_frames / (start.elapsed_time(end) * 0.001), tag=\"Eval\")\n",
    "\n",
    "        if self.eval_rendering:\n",
    "            self.gaussians = self.frontend.gaussians\n",
    "            kf_indices = self.frontend.kf_indices\n",
    "            ATE = eval_ate(\n",
    "                self.frontend.cameras,\n",
    "                self.frontend.kf_indices,\n",
    "                self.save_dir,\n",
    "                0,\n",
    "                final=True,\n",
    "                monocular=self.monocular,\n",
    "            )\n",
    "\n",
    "            rendering_result = eval_rendering(\n",
    "                self.frontend.cameras,\n",
    "                self.gaussians,\n",
    "                self.dataset,\n",
    "                self.save_dir,\n",
    "                self.pipeline_params,\n",
    "                self.background,\n",
    "                kf_indices=kf_indices,\n",
    "                iteration=\"before_opt\",\n",
    "            )\n",
    "            columns = [\"tag\", \"psnr\", \"ssim\", \"lpips\", \"RMSE ATE\", \"FPS\"]\n",
    "            metrics_table = wandb.Table(columns=columns)\n",
    "            metrics_table.add_data(\n",
    "                \"Before\",\n",
    "                rendering_result[\"mean_psnr\"],\n",
    "                rendering_result[\"mean_ssim\"],\n",
    "                rendering_result[\"mean_lpips\"],\n",
    "                ATE,\n",
    "                FPS,\n",
    "            )\n",
    "\n",
    "            # re-used the frontend queue to retrive the gaussians from the backend.\n",
    "            while not frontend_queue.empty():\n",
    "                frontend_queue.get()\n",
    "            backend_queue.put([\"color_refinement\"])\n",
    "            while True:\n",
    "                if frontend_queue.empty():\n",
    "                    time.sleep(0.01)\n",
    "                    continue\n",
    "                data = frontend_queue.get()\n",
    "                if data[0] == \"sync_backend\" and frontend_queue.empty():\n",
    "                    gaussians = data[1]\n",
    "                    self.gaussians = gaussians\n",
    "                    break\n",
    "\n",
    "            rendering_result = eval_rendering(\n",
    "                self.frontend.cameras,\n",
    "                self.gaussians,\n",
    "                self.dataset,\n",
    "                self.save_dir,\n",
    "                self.pipeline_params,\n",
    "                self.background,\n",
    "                kf_indices=kf_indices,\n",
    "                iteration=\"after_opt\",\n",
    "            )\n",
    "            metrics_table.add_data(\n",
    "                \"After\",\n",
    "                rendering_result[\"mean_psnr\"],\n",
    "                rendering_result[\"mean_ssim\"],\n",
    "                rendering_result[\"mean_lpips\"],\n",
    "                ATE,\n",
    "                FPS,\n",
    "            )\n",
    "            wandb.log({\"Metrics\": metrics_table})\n",
    "            save_gaussians(self.gaussians, self.save_dir, \"final_after_opt\", final=True)\n",
    "\n",
    "        backend_queue.put([\"stop\"])\n",
    "        backend_process.join()\n",
    "        Log(\"Backend stopped and joined the main thread\")\n",
    "        if self.use_gui:\n",
    "            q_main2vis.put(gui_utils.GaussianPacket(finish=True))\n",
    "            gui_process.join()\n",
    "            Log(\"GUI Stopped and joined the main thread\")\n",
    "\n",
    "    def run(self):\n",
    "        pass\n",
    "\n",
    "\n"
   ]
  },
  {
   "cell_type": "code",
   "execution_count": 1,
   "id": "4a1687be",
   "metadata": {},
   "outputs": [
    {
     "data": {
      "text/plain": [
       "2"
      ]
     },
     "execution_count": 1,
     "metadata": {},
     "output_type": "execute_result"
    }
   ],
   "source": [
    "1+1"
   ]
  },
  {
   "cell_type": "code",
   "execution_count": 2,
   "id": "1019be4f",
   "metadata": {},
   "outputs": [],
   "source": [
    "sys.argv = [\n",
    "    \"slam.py\", \n",
    "    \"--config\", \"configs/mono/tum/fr3_office.yaml\"\n",
    "]\n",
    "\n",
    "# Set up command line argument parser\n",
    "parser = ArgumentParser(description=\"Training script parameters\")\n",
    "parser.add_argument(\"--config\", type=str, required=True, help=\"Path to the config file\")\n",
    "parser.add_argument(\"--eval\", action=\"store_true\", help=\"Run in evaluation mode\")\n",
    "\n",
    "args = parser.parse_args()\n",
    "\n",
    "mp.set_start_method(\"spawn\")\n",
    "\n",
    "with open(args.config, \"r\") as yml:\n",
    "    config = yaml.safe_load(yml)\n",
    "\n",
    "config = load_config(args.config)\n",
    "save_dir = None\n",
    "\n",
    "if args.eval:\n",
    "    Log(\"Running MonoGS in Evaluation Mode\")\n",
    "    Log(\"Following config will be overridden\")\n",
    "    Log(\"\\tsave_results=True\")\n",
    "    config[\"Results\"][\"save_results\"] = True\n",
    "    Log(\"\\tuse_gui=False\")\n",
    "    config[\"Results\"][\"use_gui\"] = False\n",
    "    Log(\"\\teval_rendering=True\")\n",
    "    config[\"Results\"][\"eval_rendering\"] = True\n",
    "    Log(\"\\tuse_wandb=True\")\n",
    "    config[\"Results\"][\"use_wandb\"] = True"
   ]
  },
  {
   "cell_type": "code",
   "execution_count": 5,
   "id": "cf1c4a12",
   "metadata": {},
   "outputs": [],
   "source": [
    "Model = GaussianModel(0, config)\n",
    "Model.load_ply(\"results/datasets_tum/2024-06-18-23-04-50/point_cloud/final/point_cloud.ply\")"
   ]
  },
  {
   "cell_type": "code",
   "execution_count": 6,
   "id": "8b697767",
   "metadata": {},
   "outputs": [
    {
     "data": {
      "text/plain": [
       "(tensor([[[0.6196, 0.6235, 0.6118,  ..., 0.6863, 0.7098, 0.7137],\n",
       "          [0.6314, 0.6314, 0.6196,  ..., 0.7059, 0.7216, 0.7255],\n",
       "          [0.6196, 0.6196, 0.6196,  ..., 0.6980, 0.7176, 0.8000],\n",
       "          ...,\n",
       "          [0.4471, 0.4431, 0.4471,  ..., 0.4667, 0.4627, 0.4627],\n",
       "          [0.4510, 0.4471, 0.4471,  ..., 0.4667, 0.4627, 0.4627],\n",
       "          [0.4431, 0.4314, 0.4353,  ..., 0.4706, 0.4627, 0.4588]],\n",
       " \n",
       "         [[0.6314, 0.6392, 0.6392,  ..., 0.7451, 0.7490, 0.7529],\n",
       "          [0.6471, 0.6471, 0.6471,  ..., 0.7765, 0.7765, 0.7804],\n",
       "          [0.6392, 0.6431, 0.6471,  ..., 0.7804, 0.7843, 0.8667],\n",
       "          ...,\n",
       "          [0.4471, 0.4431, 0.4471,  ..., 0.4706, 0.4706, 0.4745],\n",
       "          [0.4588, 0.4549, 0.4549,  ..., 0.4745, 0.4745, 0.4745],\n",
       "          [0.4510, 0.4549, 0.4588,  ..., 0.4745, 0.4784, 0.4745]],\n",
       " \n",
       "         [[0.6157, 0.6157, 0.6196,  ..., 0.8824, 0.9137, 0.9216],\n",
       "          [0.6353, 0.6157, 0.6314,  ..., 0.9020, 0.9569, 0.9569],\n",
       "          [0.6392, 0.6314, 0.6353,  ..., 0.9098, 0.9765, 1.0000],\n",
       "          ...,\n",
       "          [0.4039, 0.4078, 0.4118,  ..., 0.5412, 0.5216, 0.5176],\n",
       "          [0.4118, 0.4078, 0.4039,  ..., 0.5294, 0.5137, 0.5059],\n",
       "          [0.4000, 0.3765, 0.3804,  ..., 0.5294, 0.5176, 0.5098]]],\n",
       "        device='cuda:0'),\n",
       " array([[0., 0., 0., ..., 0., 0., 0.],\n",
       "        [0., 0., 0., ..., 0., 0., 0.],\n",
       "        [0., 0., 0., ..., 0., 0., 0.],\n",
       "        ...,\n",
       "        [0., 0., 0., ..., 0., 0., 0.],\n",
       "        [0., 0., 0., ..., 0., 0., 0.],\n",
       "        [0., 0., 0., ..., 0., 0., 0.]]),\n",
       " tensor([[-0.9996,  0.0152,  0.0247, -0.7668],\n",
       "         [-0.0142,  0.4855, -0.8741,  0.2025],\n",
       "         [-0.0253, -0.8741, -0.4851,  3.1776],\n",
       "         [ 0.0000,  0.0000,  0.0000,  1.0000]], device='cuda:0',\n",
       "        dtype=torch.float64))"
      ]
     },
     "execution_count": 6,
     "metadata": {},
     "output_type": "execute_result"
    }
   ],
   "source": [
    "model_params = munchify(config[\"model_params\"])\n",
    "pipeline_params = munchify(config[\"pipeline_params\"])\n",
    "dataset = load_dataset(\n",
    "    model_params, model_params.source_path, config=config\n",
    ")\n",
    "bg_color = [0, 0, 0]\n",
    "background = torch.tensor(bg_color, dtype=torch.float32, device=\"cuda\")\n",
    "dataset[0]"
   ]
  },
  {
   "cell_type": "code",
   "execution_count": 7,
   "id": "86c24852",
   "metadata": {},
   "outputs": [],
   "source": [
    "from gaussian_splatting.utils.graphics_utils import getProjectionMatrix2\n",
    "from gaussian_splatting.gaussian_renderer import render\n",
    "from utils.camera_utils import Camera\n",
    "from utils.slam_utils import get_loss_tracking, get_median_depth\n",
    "from utils.pose_utils import update_pose"
   ]
  },
  {
   "cell_type": "code",
   "execution_count": 18,
   "id": "19628f9a",
   "metadata": {},
   "outputs": [],
   "source": [
    "cur_frame_idx = 0\n",
    "projection_matrix = getProjectionMatrix2(\n",
    "    znear=0.01,\n",
    "    zfar=100.0,\n",
    "    fx=dataset.fx,\n",
    "    fy=dataset.fy,\n",
    "    cx=dataset.cx,\n",
    "    cy=dataset.cy,\n",
    "    W=dataset.width,\n",
    "    H=dataset.height,\n",
    ").transpose(0, 1)\n",
    "projection_matrix = projection_matrix.to(device=\"cuda:0\")\n",
    "\n",
    "viewpoint = Camera.init_from_dataset(\n",
    "    dataset, 0, projection_matrix)\n",
    "viewpoint.compute_grad_mask(config)"
   ]
  },
  {
   "cell_type": "code",
   "execution_count": 48,
   "id": "e0509038",
   "metadata": {},
   "outputs": [],
   "source": [
    "orig = viewpoint.original_image\n",
    "\n",
    "\n",
    "# Move the tensor to CPU\n",
    "orig = orig.cpu()\n",
    "\n",
    "# Convert the tensor to a NumPy array\n",
    "orig = orig.detach().numpy()\n",
    "\n",
    "# Transpose the dimensions to [640, 480, 3]\n",
    "orig = np.transpose(orig, (1, 2, 0))\n",
    "\n",
    "# Display the image using Matplotlib\n",
    "plt.imshow(orig)\n",
    "plt.axis('off')  # Hide axes\n",
    "plt.show()"
   ]
  },
  {
   "cell_type": "code",
   "execution_count": null,
   "id": "e1744fc0",
   "metadata": {},
   "outputs": [],
   "source": []
  },
  {
   "cell_type": "code",
   "execution_count": 46,
   "id": "7fd21f45",
   "metadata": {},
   "outputs": [
    {
     "name": "stdout",
     "output_type": "stream",
     "text": [
      "285\n"
     ]
    },
    {
     "data": {
      "text/plain": [
       "{'render': tensor([[[0.6659, 0.6733, 0.6825,  ..., 0.6500, 0.7576, 0.8512],\n",
       "          [0.6719, 0.6790, 0.6873,  ..., 0.6952, 0.7934, 0.8758],\n",
       "          [0.6784, 0.6847, 0.6918,  ..., 0.7337, 0.8234, 0.8959],\n",
       "          ...,\n",
       "          [0.4658, 0.4659, 0.4659,  ..., 0.5131, 0.5122, 0.5111],\n",
       "          [0.4657, 0.4658, 0.4658,  ..., 0.5127, 0.5118, 0.5108],\n",
       "          [0.4656, 0.4657, 0.4657,  ..., 0.5125, 0.5116, 0.5106]],\n",
       " \n",
       "         [[0.6996, 0.7020, 0.7051,  ..., 0.6746, 0.7869, 0.8828],\n",
       "          [0.6991, 0.7015, 0.7046,  ..., 0.7180, 0.8194, 0.9027],\n",
       "          [0.6978, 0.7003, 0.7032,  ..., 0.7549, 0.8466, 0.9192],\n",
       "          ...,\n",
       "          [0.4745, 0.4746, 0.4747,  ..., 0.5063, 0.5053, 0.5042],\n",
       "          [0.4743, 0.4745, 0.4746,  ..., 0.5059, 0.5048, 0.5038],\n",
       "          [0.4741, 0.4743, 0.4744,  ..., 0.5056, 0.5045, 0.5034]],\n",
       " \n",
       "         [[0.8077, 0.7998, 0.7903,  ..., 0.7001, 0.8136, 0.9112],\n",
       "          [0.7919, 0.7854, 0.7779,  ..., 0.7420, 0.8433, 0.9262],\n",
       "          [0.7739, 0.7694, 0.7643,  ..., 0.7788, 0.8697, 0.9403],\n",
       "          ...,\n",
       "          [0.4538, 0.4538, 0.4539,  ..., 0.5621, 0.5606, 0.5590],\n",
       "          [0.4537, 0.4538, 0.4538,  ..., 0.5612, 0.5596, 0.5581],\n",
       "          [0.4536, 0.4536, 0.4537,  ..., 0.5604, 0.5588, 0.5571]]],\n",
       "        device='cuda:0', grad_fn=<_RasterizeGaussiansBackward>),\n",
       " 'viewspace_points': tensor([[0., 0., 0.],\n",
       "         [0., 0., 0.],\n",
       "         [0., 0., 0.],\n",
       "         ...,\n",
       "         [0., 0., 0.],\n",
       "         [0., 0., 0.],\n",
       "         [0., 0., 0.]], device='cuda:0', grad_fn=<AddBackward0>),\n",
       " 'visibility_filter': tensor([False,  True,  True,  ...,  True,  True,  True], device='cuda:0'),\n",
       " 'radii': tensor([ 0, 30, 13,  ...,  4,  7, 10], device='cuda:0', dtype=torch.int32),\n",
       " 'depth': tensor([[[1.8713, 2.0036, 2.1669,  ..., 3.5942, 4.1637, 4.6532],\n",
       "          [2.0652, 2.1787, 2.3148,  ..., 3.8250, 4.3331, 4.7553],\n",
       "          [2.2689, 2.3590, 2.4621,  ..., 4.0308, 4.4928, 4.8482],\n",
       "          ...,\n",
       "          [1.4449, 1.4396, 1.4357,  ..., 1.4389, 1.4479, 1.4576],\n",
       "          [1.4502, 1.4447, 1.4406,  ..., 1.4431, 1.4524, 1.4618],\n",
       "          [1.4561, 1.4505, 1.4462,  ..., 1.4464, 1.4561, 1.4658]]],\n",
       "        device='cuda:0', grad_fn=<_RasterizeGaussiansBackward>),\n",
       " 'opacity': tensor([[[0.9998, 0.9998, 0.9999,  ..., 0.6765, 0.7811, 0.8726],\n",
       "          [0.9997, 0.9997, 0.9998,  ..., 0.7235, 0.8179, 0.8980],\n",
       "          [0.9995, 0.9996, 0.9997,  ..., 0.7673, 0.8542, 0.9217],\n",
       "          ...,\n",
       "          [0.9991, 0.9992, 0.9993,  ..., 0.9870, 0.9861, 0.9850],\n",
       "          [0.9989, 0.9991, 0.9992,  ..., 0.9866, 0.9855, 0.9844],\n",
       "          [0.9987, 0.9988, 0.9989,  ..., 0.9862, 0.9851, 0.9839]]],\n",
       "        device='cuda:0', grad_fn=<_RasterizeGaussiansBackward>),\n",
       " 'n_touched': tensor([  0,  46,   0,  ...,  17,  44, 174], device='cuda:0',\n",
       "        dtype=torch.int32)}"
      ]
     },
     "execution_count": 46,
     "metadata": {},
     "output_type": "execute_result"
    }
   ],
   "source": [
    "viewpoint.update_RT(viewpoint.R_gt, viewpoint.T_gt)\n",
    "\n",
    "\n",
    "opt_params = []\n",
    "opt_params.append(\n",
    "    {\n",
    "        \"params\": [viewpoint.cam_rot_delta],\n",
    "        \"lr\": config[\"Training\"][\"lr\"][\"cam_rot_delta\"],\n",
    "        \"name\": \"rot_{}\".format(viewpoint.uid),\n",
    "    }\n",
    ")\n",
    "opt_params.append(\n",
    "    {\n",
    "        \"params\": [viewpoint.cam_trans_delta],\n",
    "        \"lr\": config[\"Training\"][\"lr\"][\"cam_trans_delta\"],\n",
    "        \"name\": \"trans_{}\".format(viewpoint.uid),\n",
    "    }\n",
    ")\n",
    "opt_params.append(\n",
    "    {\n",
    "        \"params\": [viewpoint.exposure_a],\n",
    "        \"lr\": 0.01,\n",
    "        \"name\": \"exposure_a_{}\".format(viewpoint.uid),\n",
    "    }\n",
    ")\n",
    "opt_params.append(\n",
    "    {\n",
    "        \"params\": [viewpoint.exposure_b],\n",
    "        \"lr\": 0.01,\n",
    "        \"name\": \"exposure_b_{}\".format(viewpoint.uid),\n",
    "    }\n",
    ")\n",
    "\n",
    "\n",
    "pose_optimizer = torch.optim.Adam(opt_params)\n",
    "for tracking_itr in range(1000):\n",
    "    render_pkg = render(\n",
    "        viewpoint, Model, pipeline_params, background\n",
    "    )\n",
    "    image, depth, opacity = (\n",
    "        render_pkg[\"render\"],\n",
    "        render_pkg[\"depth\"],\n",
    "        render_pkg[\"opacity\"],\n",
    "    )\n",
    "    pose_optimizer.zero_grad()\n",
    "    loss_tracking = get_loss_tracking(\n",
    "        config, image, depth, opacity, viewpoint\n",
    "    )\n",
    "    loss_tracking.backward()\n",
    "\n",
    "    with torch.no_grad():\n",
    "        pose_optimizer.step()\n",
    "        converged = update_pose(viewpoint)\n",
    "\n",
    "    if converged:\n",
    "        print(tracking_itr)\n",
    "        break\n",
    "\n",
    "median_depth = get_median_depth(depth, opacity)\n",
    "render_pkg"
   ]
  },
  {
   "cell_type": "code",
   "execution_count": 47,
   "id": "c90737e5",
   "metadata": {},
   "outputs": [
    {
     "name": "stderr",
     "output_type": "stream",
     "text": [
      "Clipping input data to the valid range for imshow with RGB data ([0..1] for floats or [0..255] for integers).\n"
     ]
    }
   ],
   "source": [
    "render_pkg[\"render\"].shape\n",
    "import matplotlib.pyplot as plt\n",
    "# Get the image tensor\n",
    "image_tensor = render_pkg[\"render\"]\n",
    "\n",
    "# Move the tensor to CPU\n",
    "image_tensor = image_tensor.cpu()\n",
    "\n",
    "# Convert the tensor to a NumPy array\n",
    "image_np = image_tensor.detach().numpy()\n",
    "\n",
    "# Transpose the dimensions to [640, 480, 3]\n",
    "image_np = np.transpose(image_np, (1, 2, 0))\n",
    "\n",
    "# Display the image using Matplotlib\n",
    "plt.imshow(image_np)\n",
    "plt.axis('off')  # Hide axes\n",
    "plt.show()"
   ]
  },
  {
   "cell_type": "code",
   "execution_count": 17,
   "id": "418e802b",
   "metadata": {},
   "outputs": [
    {
     "name": "stdout",
     "output_type": "stream",
     "text": [
      "None\n"
     ]
    }
   ],
   "source": [
    "print(viewpoint.grad_mask)"
   ]
  },
  {
   "cell_type": "code",
   "execution_count": 14,
   "id": "683c5614",
   "metadata": {},
   "outputs": [
    {
     "data": {
      "text/plain": [
       "True"
      ]
     },
     "execution_count": 14,
     "metadata": {},
     "output_type": "execute_result"
    }
   ],
   "source": [
    "config[\"Training\"][\"monocular\"]"
   ]
  },
  {
   "cell_type": "code",
   "execution_count": 51,
   "id": "b29a354f",
   "metadata": {},
   "outputs": [
    {
     "data": {
      "text/plain": [
       "tensor([[-0.9996,  0.0152,  0.0247],\n",
       "        [-0.0142,  0.4855, -0.8741],\n",
       "        [-0.0253, -0.8741, -0.4851]], device='cuda:0', dtype=torch.float64)"
      ]
     },
     "execution_count": 51,
     "metadata": {},
     "output_type": "execute_result"
    }
   ],
   "source": [
    "viewpoint.R_gt"
   ]
  },
  {
   "cell_type": "code",
   "execution_count": null,
   "id": "4fad1551",
   "metadata": {},
   "outputs": [],
   "source": []
  },
  {
   "cell_type": "code",
   "execution_count": 2,
   "id": "b9631efb",
   "metadata": {},
   "outputs": [
    {
     "data": {
      "text/html": [
       "<pre style=\"white-space:pre;overflow-x:auto;line-height:normal;font-family:Menlo,'DejaVu Sans Mono',consolas,'Courier New',monospace\"><span style=\"color: #008000; text-decoration-color: #008000; font-weight: bold\">MonoGS:</span> saving results in results/datasets_tum/<span style=\"color: #008080; text-decoration-color: #008080; font-weight: bold\">2024</span>-<span style=\"color: #008080; text-decoration-color: #008080; font-weight: bold\">06</span>-<span style=\"color: #008080; text-decoration-color: #008080; font-weight: bold\">18</span>-<span style=\"color: #008080; text-decoration-color: #008080; font-weight: bold\">23</span>-<span style=\"color: #008080; text-decoration-color: #008080; font-weight: bold\">04</span>-<span style=\"color: #008080; text-decoration-color: #008080; font-weight: bold\">50</span>\n",
       "</pre>\n"
      ],
      "text/plain": [
       "\u001b[1;32mMonoGS:\u001b[0m saving results in results/datasets_tum/\u001b[1;36m2024\u001b[0m-\u001b[1;36m06\u001b[0m-\u001b[1;36m18\u001b[0m-\u001b[1;36m23\u001b[0m-\u001b[1;36m04\u001b[0m-\u001b[1;36m50\u001b[0m\n"
      ]
     },
     "metadata": {},
     "output_type": "display_data"
    },
    {
     "name": "stderr",
     "output_type": "stream",
     "text": [
      "Failed to detect the name of this notebook, you can set it manually with the WANDB_NOTEBOOK_NAME environment variable to enable code saving.\n"
     ]
    },
    {
     "name": "stdout",
     "output_type": "stream",
     "text": [
      "FEngine (64 bits) created at 0x556846d1fd60 (threading is enabled)\n",
      "FEngine resolved backend: OpenGL\n",
      "MonoGS: Resetting the system\n",
      "MonoGS: Initialized map\n",
      "MonoGS: Resetting the opacity of non-visible Gaussians\n",
      "MonoGS: Performing initial BA for initialization\n",
      "MonoGS: Initialized SLAM\n"
     ]
    },
    {
     "data": {
      "text/html": [
       "<pre style=\"white-space:pre;overflow-x:auto;line-height:normal;font-family:Menlo,'DejaVu Sans Mono',consolas,'Courier New',monospace\"><span style=\"color: #008000; text-decoration-color: #008000; font-weight: bold\">MonoGS:</span> Evaluating ATE at frame:  <span style=\"color: #008080; text-decoration-color: #008080; font-weight: bold\">107</span>\n",
       "</pre>\n"
      ],
      "text/plain": [
       "\u001b[1;32mMonoGS:\u001b[0m Evaluating ATE at frame:  \u001b[1;36m107\u001b[0m\n"
      ]
     },
     "metadata": {},
     "output_type": "display_data"
    },
    {
     "data": {
      "text/html": [
       "<pre style=\"white-space:pre;overflow-x:auto;line-height:normal;font-family:Menlo,'DejaVu Sans Mono',consolas,'Courier New',monospace\"><span style=\"color: #800000; text-decoration-color: #800000; font-weight: bold\">Eval:</span> RMSE ATE <span style=\"font-weight: bold\">[</span>m<span style=\"font-weight: bold\">]</span> <span style=\"color: #008080; text-decoration-color: #008080; font-weight: bold\">0.0071820858401199774</span>\n",
       "</pre>\n"
      ],
      "text/plain": [
       "\u001b[1;31mEval:\u001b[0m RMSE ATE \u001b[1m[\u001b[0mm\u001b[1m]\u001b[0m \u001b[1;36m0.0071820858401199774\u001b[0m\n"
      ]
     },
     "metadata": {},
     "output_type": "display_data"
    },
    {
     "name": "stdout",
     "output_type": "stream",
     "text": [
      "MonoGS: Resetting the opacity of non-visible Gaussians\n"
     ]
    },
    {
     "data": {
      "text/html": [
       "<pre style=\"white-space:pre;overflow-x:auto;line-height:normal;font-family:Menlo,'DejaVu Sans Mono',consolas,'Courier New',monospace\"><span style=\"color: #008000; text-decoration-color: #008000; font-weight: bold\">MonoGS:</span> Evaluating ATE at frame:  <span style=\"color: #008080; text-decoration-color: #008080; font-weight: bold\">199</span>\n",
       "</pre>\n"
      ],
      "text/plain": [
       "\u001b[1;32mMonoGS:\u001b[0m Evaluating ATE at frame:  \u001b[1;36m199\u001b[0m\n"
      ]
     },
     "metadata": {},
     "output_type": "display_data"
    },
    {
     "data": {
      "text/html": [
       "<pre style=\"white-space:pre;overflow-x:auto;line-height:normal;font-family:Menlo,'DejaVu Sans Mono',consolas,'Courier New',monospace\"><span style=\"color: #800000; text-decoration-color: #800000; font-weight: bold\">Eval:</span> RMSE ATE <span style=\"font-weight: bold\">[</span>m<span style=\"font-weight: bold\">]</span> <span style=\"color: #008080; text-decoration-color: #008080; font-weight: bold\">0.012946979287627686</span>\n",
       "</pre>\n"
      ],
      "text/plain": [
       "\u001b[1;31mEval:\u001b[0m RMSE ATE \u001b[1m[\u001b[0mm\u001b[1m]\u001b[0m \u001b[1;36m0.012946979287627686\u001b[0m\n"
      ]
     },
     "metadata": {},
     "output_type": "display_data"
    },
    {
     "data": {
      "text/html": [
       "<pre style=\"white-space:pre;overflow-x:auto;line-height:normal;font-family:Menlo,'DejaVu Sans Mono',consolas,'Courier New',monospace\"><span style=\"color: #008000; text-decoration-color: #008000; font-weight: bold\">MonoGS:</span> Evaluating ATE at frame:  <span style=\"color: #008080; text-decoration-color: #008080; font-weight: bold\">296</span>\n",
       "</pre>\n"
      ],
      "text/plain": [
       "\u001b[1;32mMonoGS:\u001b[0m Evaluating ATE at frame:  \u001b[1;36m296\u001b[0m\n"
      ]
     },
     "metadata": {},
     "output_type": "display_data"
    },
    {
     "data": {
      "text/html": [
       "<pre style=\"white-space:pre;overflow-x:auto;line-height:normal;font-family:Menlo,'DejaVu Sans Mono',consolas,'Courier New',monospace\"><span style=\"color: #800000; text-decoration-color: #800000; font-weight: bold\">Eval:</span> RMSE ATE <span style=\"font-weight: bold\">[</span>m<span style=\"font-weight: bold\">]</span> <span style=\"color: #008080; text-decoration-color: #008080; font-weight: bold\">0.018154710890999622</span>\n",
       "</pre>\n"
      ],
      "text/plain": [
       "\u001b[1;31mEval:\u001b[0m RMSE ATE \u001b[1m[\u001b[0mm\u001b[1m]\u001b[0m \u001b[1;36m0.018154710890999622\u001b[0m\n"
      ]
     },
     "metadata": {},
     "output_type": "display_data"
    },
    {
     "data": {
      "text/html": [
       "<pre style=\"white-space:pre;overflow-x:auto;line-height:normal;font-family:Menlo,'DejaVu Sans Mono',consolas,'Courier New',monospace\"><span style=\"color: #008000; text-decoration-color: #008000; font-weight: bold\">MonoGS:</span> Evaluating ATE at frame:  <span style=\"color: #008080; text-decoration-color: #008080; font-weight: bold\">391</span>\n",
       "</pre>\n"
      ],
      "text/plain": [
       "\u001b[1;32mMonoGS:\u001b[0m Evaluating ATE at frame:  \u001b[1;36m391\u001b[0m\n"
      ]
     },
     "metadata": {},
     "output_type": "display_data"
    },
    {
     "data": {
      "text/html": [
       "<pre style=\"white-space:pre;overflow-x:auto;line-height:normal;font-family:Menlo,'DejaVu Sans Mono',consolas,'Courier New',monospace\"><span style=\"color: #800000; text-decoration-color: #800000; font-weight: bold\">Eval:</span> RMSE ATE <span style=\"font-weight: bold\">[</span>m<span style=\"font-weight: bold\">]</span> <span style=\"color: #008080; text-decoration-color: #008080; font-weight: bold\">0.02299279503392531</span>\n",
       "</pre>\n"
      ],
      "text/plain": [
       "\u001b[1;31mEval:\u001b[0m RMSE ATE \u001b[1m[\u001b[0mm\u001b[1m]\u001b[0m \u001b[1;36m0.02299279503392531\u001b[0m\n"
      ]
     },
     "metadata": {},
     "output_type": "display_data"
    },
    {
     "data": {
      "text/html": [
       "<pre style=\"white-space:pre;overflow-x:auto;line-height:normal;font-family:Menlo,'DejaVu Sans Mono',consolas,'Courier New',monospace\"><span style=\"color: #008000; text-decoration-color: #008000; font-weight: bold\">MonoGS:</span> Evaluating ATE at frame:  <span style=\"color: #008080; text-decoration-color: #008080; font-weight: bold\">503</span>\n",
       "</pre>\n"
      ],
      "text/plain": [
       "\u001b[1;32mMonoGS:\u001b[0m Evaluating ATE at frame:  \u001b[1;36m503\u001b[0m\n"
      ]
     },
     "metadata": {},
     "output_type": "display_data"
    },
    {
     "data": {
      "text/html": [
       "<pre style=\"white-space:pre;overflow-x:auto;line-height:normal;font-family:Menlo,'DejaVu Sans Mono',consolas,'Courier New',monospace\"><span style=\"color: #800000; text-decoration-color: #800000; font-weight: bold\">Eval:</span> RMSE ATE <span style=\"font-weight: bold\">[</span>m<span style=\"font-weight: bold\">]</span> <span style=\"color: #008080; text-decoration-color: #008080; font-weight: bold\">0.028129132560359017</span>\n",
       "</pre>\n"
      ],
      "text/plain": [
       "\u001b[1;31mEval:\u001b[0m RMSE ATE \u001b[1m[\u001b[0mm\u001b[1m]\u001b[0m \u001b[1;36m0.028129132560359017\u001b[0m\n"
      ]
     },
     "metadata": {},
     "output_type": "display_data"
    },
    {
     "name": "stdout",
     "output_type": "stream",
     "text": [
      "MonoGS: Resetting the opacity of non-visible Gaussians\n"
     ]
    },
    {
     "data": {
      "text/html": [
       "<pre style=\"white-space:pre;overflow-x:auto;line-height:normal;font-family:Menlo,'DejaVu Sans Mono',consolas,'Courier New',monospace\"><span style=\"color: #008000; text-decoration-color: #008000; font-weight: bold\">MonoGS:</span> Evaluating ATE at frame:  <span style=\"color: #008080; text-decoration-color: #008080; font-weight: bold\">599</span>\n",
       "</pre>\n"
      ],
      "text/plain": [
       "\u001b[1;32mMonoGS:\u001b[0m Evaluating ATE at frame:  \u001b[1;36m599\u001b[0m\n"
      ]
     },
     "metadata": {},
     "output_type": "display_data"
    },
    {
     "data": {
      "text/html": [
       "<pre style=\"white-space:pre;overflow-x:auto;line-height:normal;font-family:Menlo,'DejaVu Sans Mono',consolas,'Courier New',monospace\"><span style=\"color: #800000; text-decoration-color: #800000; font-weight: bold\">Eval:</span> RMSE ATE <span style=\"font-weight: bold\">[</span>m<span style=\"font-weight: bold\">]</span> <span style=\"color: #008080; text-decoration-color: #008080; font-weight: bold\">0.030289776186260452</span>\n",
       "</pre>\n"
      ],
      "text/plain": [
       "\u001b[1;31mEval:\u001b[0m RMSE ATE \u001b[1m[\u001b[0mm\u001b[1m]\u001b[0m \u001b[1;36m0.030289776186260452\u001b[0m\n"
      ]
     },
     "metadata": {},
     "output_type": "display_data"
    },
    {
     "data": {
      "text/html": [
       "<pre style=\"white-space:pre;overflow-x:auto;line-height:normal;font-family:Menlo,'DejaVu Sans Mono',consolas,'Courier New',monospace\"><span style=\"color: #008000; text-decoration-color: #008000; font-weight: bold\">MonoGS:</span> Evaluating ATE at frame:  <span style=\"color: #008080; text-decoration-color: #008080; font-weight: bold\">675</span>\n",
       "</pre>\n"
      ],
      "text/plain": [
       "\u001b[1;32mMonoGS:\u001b[0m Evaluating ATE at frame:  \u001b[1;36m675\u001b[0m\n"
      ]
     },
     "metadata": {},
     "output_type": "display_data"
    },
    {
     "data": {
      "text/html": [
       "<pre style=\"white-space:pre;overflow-x:auto;line-height:normal;font-family:Menlo,'DejaVu Sans Mono',consolas,'Courier New',monospace\"><span style=\"color: #800000; text-decoration-color: #800000; font-weight: bold\">Eval:</span> RMSE ATE <span style=\"font-weight: bold\">[</span>m<span style=\"font-weight: bold\">]</span> <span style=\"color: #008080; text-decoration-color: #008080; font-weight: bold\">0.030419186457851684</span>\n",
       "</pre>\n"
      ],
      "text/plain": [
       "\u001b[1;31mEval:\u001b[0m RMSE ATE \u001b[1m[\u001b[0mm\u001b[1m]\u001b[0m \u001b[1;36m0.030419186457851684\u001b[0m\n"
      ]
     },
     "metadata": {},
     "output_type": "display_data"
    },
    {
     "data": {
      "text/html": [
       "<pre style=\"white-space:pre;overflow-x:auto;line-height:normal;font-family:Menlo,'DejaVu Sans Mono',consolas,'Courier New',monospace\"><span style=\"color: #008000; text-decoration-color: #008000; font-weight: bold\">MonoGS:</span> Evaluating ATE at frame:  <span style=\"color: #008080; text-decoration-color: #008080; font-weight: bold\">769</span>\n",
       "</pre>\n"
      ],
      "text/plain": [
       "\u001b[1;32mMonoGS:\u001b[0m Evaluating ATE at frame:  \u001b[1;36m769\u001b[0m\n"
      ]
     },
     "metadata": {},
     "output_type": "display_data"
    },
    {
     "data": {
      "text/html": [
       "<pre style=\"white-space:pre;overflow-x:auto;line-height:normal;font-family:Menlo,'DejaVu Sans Mono',consolas,'Courier New',monospace\"><span style=\"color: #800000; text-decoration-color: #800000; font-weight: bold\">Eval:</span> RMSE ATE <span style=\"font-weight: bold\">[</span>m<span style=\"font-weight: bold\">]</span> <span style=\"color: #008080; text-decoration-color: #008080; font-weight: bold\">0.02984981164132713</span>\n",
       "</pre>\n"
      ],
      "text/plain": [
       "\u001b[1;31mEval:\u001b[0m RMSE ATE \u001b[1m[\u001b[0mm\u001b[1m]\u001b[0m \u001b[1;36m0.02984981164132713\u001b[0m\n"
      ]
     },
     "metadata": {},
     "output_type": "display_data"
    },
    {
     "name": "stdout",
     "output_type": "stream",
     "text": [
      "MonoGS: Resetting the opacity of non-visible Gaussians\n"
     ]
    },
    {
     "name": "stderr",
     "output_type": "stream",
     "text": [
      "[W CudaIPCTypes.cpp:92] Producer process tried to deallocate over 1000 memory blocks referred by consumer processes. Deallocation might be significantly slowed down. We assume it will never going to be the case, but if it is, please file but to https://github.com/pytorch/pytorch\n"
     ]
    },
    {
     "data": {
      "text/html": [
       "<pre style=\"white-space:pre;overflow-x:auto;line-height:normal;font-family:Menlo,'DejaVu Sans Mono',consolas,'Courier New',monospace\"><span style=\"color: #008000; text-decoration-color: #008000; font-weight: bold\">MonoGS:</span> Evaluating ATE at frame:  <span style=\"color: #008080; text-decoration-color: #008080; font-weight: bold\">876</span>\n",
       "</pre>\n"
      ],
      "text/plain": [
       "\u001b[1;32mMonoGS:\u001b[0m Evaluating ATE at frame:  \u001b[1;36m876\u001b[0m\n"
      ]
     },
     "metadata": {},
     "output_type": "display_data"
    },
    {
     "data": {
      "text/html": [
       "<pre style=\"white-space:pre;overflow-x:auto;line-height:normal;font-family:Menlo,'DejaVu Sans Mono',consolas,'Courier New',monospace\"><span style=\"color: #800000; text-decoration-color: #800000; font-weight: bold\">Eval:</span> RMSE ATE <span style=\"font-weight: bold\">[</span>m<span style=\"font-weight: bold\">]</span> <span style=\"color: #008080; text-decoration-color: #008080; font-weight: bold\">0.029311838683564063</span>\n",
       "</pre>\n"
      ],
      "text/plain": [
       "\u001b[1;31mEval:\u001b[0m RMSE ATE \u001b[1m[\u001b[0mm\u001b[1m]\u001b[0m \u001b[1;36m0.029311838683564063\u001b[0m\n"
      ]
     },
     "metadata": {},
     "output_type": "display_data"
    },
    {
     "data": {
      "text/html": [
       "<pre style=\"white-space:pre;overflow-x:auto;line-height:normal;font-family:Menlo,'DejaVu Sans Mono',consolas,'Courier New',monospace\"><span style=\"color: #008000; text-decoration-color: #008000; font-weight: bold\">MonoGS:</span> Evaluating ATE at frame:  <span style=\"color: #008080; text-decoration-color: #008080; font-weight: bold\">982</span>\n",
       "</pre>\n"
      ],
      "text/plain": [
       "\u001b[1;32mMonoGS:\u001b[0m Evaluating ATE at frame:  \u001b[1;36m982\u001b[0m\n"
      ]
     },
     "metadata": {},
     "output_type": "display_data"
    },
    {
     "data": {
      "text/html": [
       "<pre style=\"white-space:pre;overflow-x:auto;line-height:normal;font-family:Menlo,'DejaVu Sans Mono',consolas,'Courier New',monospace\"><span style=\"color: #800000; text-decoration-color: #800000; font-weight: bold\">Eval:</span> RMSE ATE <span style=\"font-weight: bold\">[</span>m<span style=\"font-weight: bold\">]</span> <span style=\"color: #008080; text-decoration-color: #008080; font-weight: bold\">0.028973541017560042</span>\n",
       "</pre>\n"
      ],
      "text/plain": [
       "\u001b[1;31mEval:\u001b[0m RMSE ATE \u001b[1m[\u001b[0mm\u001b[1m]\u001b[0m \u001b[1;36m0.028973541017560042\u001b[0m\n"
      ]
     },
     "metadata": {},
     "output_type": "display_data"
    },
    {
     "data": {
      "text/html": [
       "<pre style=\"white-space:pre;overflow-x:auto;line-height:normal;font-family:Menlo,'DejaVu Sans Mono',consolas,'Courier New',monospace\"><span style=\"color: #008000; text-decoration-color: #008000; font-weight: bold\">MonoGS:</span> Evaluating ATE at frame:  <span style=\"color: #008080; text-decoration-color: #008080; font-weight: bold\">1066</span>\n",
       "</pre>\n"
      ],
      "text/plain": [
       "\u001b[1;32mMonoGS:\u001b[0m Evaluating ATE at frame:  \u001b[1;36m1066\u001b[0m\n"
      ]
     },
     "metadata": {},
     "output_type": "display_data"
    },
    {
     "data": {
      "text/html": [
       "<pre style=\"white-space:pre;overflow-x:auto;line-height:normal;font-family:Menlo,'DejaVu Sans Mono',consolas,'Courier New',monospace\"><span style=\"color: #800000; text-decoration-color: #800000; font-weight: bold\">Eval:</span> RMSE ATE <span style=\"font-weight: bold\">[</span>m<span style=\"font-weight: bold\">]</span> <span style=\"color: #008080; text-decoration-color: #008080; font-weight: bold\">0.02901210644339738</span>\n",
       "</pre>\n"
      ],
      "text/plain": [
       "\u001b[1;31mEval:\u001b[0m RMSE ATE \u001b[1m[\u001b[0mm\u001b[1m]\u001b[0m \u001b[1;36m0.02901210644339738\u001b[0m\n"
      ]
     },
     "metadata": {},
     "output_type": "display_data"
    },
    {
     "data": {
      "text/html": [
       "<pre style=\"white-space:pre;overflow-x:auto;line-height:normal;font-family:Menlo,'DejaVu Sans Mono',consolas,'Courier New',monospace\"><span style=\"color: #008000; text-decoration-color: #008000; font-weight: bold\">MonoGS:</span> Evaluating ATE at frame:  <span style=\"color: #008080; text-decoration-color: #008080; font-weight: bold\">1146</span>\n",
       "</pre>\n"
      ],
      "text/plain": [
       "\u001b[1;32mMonoGS:\u001b[0m Evaluating ATE at frame:  \u001b[1;36m1146\u001b[0m\n"
      ]
     },
     "metadata": {},
     "output_type": "display_data"
    },
    {
     "data": {
      "text/html": [
       "<pre style=\"white-space:pre;overflow-x:auto;line-height:normal;font-family:Menlo,'DejaVu Sans Mono',consolas,'Courier New',monospace\"><span style=\"color: #800000; text-decoration-color: #800000; font-weight: bold\">Eval:</span> RMSE ATE <span style=\"font-weight: bold\">[</span>m<span style=\"font-weight: bold\">]</span> <span style=\"color: #008080; text-decoration-color: #008080; font-weight: bold\">0.029308058005305376</span>\n",
       "</pre>\n"
      ],
      "text/plain": [
       "\u001b[1;31mEval:\u001b[0m RMSE ATE \u001b[1m[\u001b[0mm\u001b[1m]\u001b[0m \u001b[1;36m0.029308058005305376\u001b[0m\n"
      ]
     },
     "metadata": {},
     "output_type": "display_data"
    },
    {
     "name": "stdout",
     "output_type": "stream",
     "text": [
      "MonoGS: Resetting the opacity of non-visible Gaussians\n"
     ]
    },
    {
     "data": {
      "text/html": [
       "<pre style=\"white-space:pre;overflow-x:auto;line-height:normal;font-family:Menlo,'DejaVu Sans Mono',consolas,'Courier New',monospace\"><span style=\"color: #008000; text-decoration-color: #008000; font-weight: bold\">MonoGS:</span> Evaluating ATE at frame:  <span style=\"color: #008080; text-decoration-color: #008080; font-weight: bold\">1227</span>\n",
       "</pre>\n"
      ],
      "text/plain": [
       "\u001b[1;32mMonoGS:\u001b[0m Evaluating ATE at frame:  \u001b[1;36m1227\u001b[0m\n"
      ]
     },
     "metadata": {},
     "output_type": "display_data"
    },
    {
     "data": {
      "text/html": [
       "<pre style=\"white-space:pre;overflow-x:auto;line-height:normal;font-family:Menlo,'DejaVu Sans Mono',consolas,'Courier New',monospace\"><span style=\"color: #800000; text-decoration-color: #800000; font-weight: bold\">Eval:</span> RMSE ATE <span style=\"font-weight: bold\">[</span>m<span style=\"font-weight: bold\">]</span> <span style=\"color: #008080; text-decoration-color: #008080; font-weight: bold\">0.029561857887065526</span>\n",
       "</pre>\n"
      ],
      "text/plain": [
       "\u001b[1;31mEval:\u001b[0m RMSE ATE \u001b[1m[\u001b[0mm\u001b[1m]\u001b[0m \u001b[1;36m0.029561857887065526\u001b[0m\n"
      ]
     },
     "metadata": {},
     "output_type": "display_data"
    },
    {
     "data": {
      "text/html": [
       "<pre style=\"white-space:pre;overflow-x:auto;line-height:normal;font-family:Menlo,'DejaVu Sans Mono',consolas,'Courier New',monospace\"><span style=\"color: #008000; text-decoration-color: #008000; font-weight: bold\">MonoGS:</span> Evaluating ATE at frame:  <span style=\"color: #008080; text-decoration-color: #008080; font-weight: bold\">1324</span>\n",
       "</pre>\n"
      ],
      "text/plain": [
       "\u001b[1;32mMonoGS:\u001b[0m Evaluating ATE at frame:  \u001b[1;36m1324\u001b[0m\n"
      ]
     },
     "metadata": {},
     "output_type": "display_data"
    },
    {
     "data": {
      "text/html": [
       "<pre style=\"white-space:pre;overflow-x:auto;line-height:normal;font-family:Menlo,'DejaVu Sans Mono',consolas,'Courier New',monospace\"><span style=\"color: #800000; text-decoration-color: #800000; font-weight: bold\">Eval:</span> RMSE ATE <span style=\"font-weight: bold\">[</span>m<span style=\"font-weight: bold\">]</span> <span style=\"color: #008080; text-decoration-color: #008080; font-weight: bold\">0.030514836088235894</span>\n",
       "</pre>\n"
      ],
      "text/plain": [
       "\u001b[1;31mEval:\u001b[0m RMSE ATE \u001b[1m[\u001b[0mm\u001b[1m]\u001b[0m \u001b[1;36m0.030514836088235894\u001b[0m\n"
      ]
     },
     "metadata": {},
     "output_type": "display_data"
    },
    {
     "data": {
      "text/html": [
       "<pre style=\"white-space:pre;overflow-x:auto;line-height:normal;font-family:Menlo,'DejaVu Sans Mono',consolas,'Courier New',monospace\"><span style=\"color: #008000; text-decoration-color: #008000; font-weight: bold\">MonoGS:</span> Evaluating ATE at frame:  <span style=\"color: #008080; text-decoration-color: #008080; font-weight: bold\">1397</span>\n",
       "</pre>\n"
      ],
      "text/plain": [
       "\u001b[1;32mMonoGS:\u001b[0m Evaluating ATE at frame:  \u001b[1;36m1397\u001b[0m\n"
      ]
     },
     "metadata": {},
     "output_type": "display_data"
    },
    {
     "data": {
      "text/html": [
       "<pre style=\"white-space:pre;overflow-x:auto;line-height:normal;font-family:Menlo,'DejaVu Sans Mono',consolas,'Courier New',monospace\"><span style=\"color: #800000; text-decoration-color: #800000; font-weight: bold\">Eval:</span> RMSE ATE <span style=\"font-weight: bold\">[</span>m<span style=\"font-weight: bold\">]</span> <span style=\"color: #008080; text-decoration-color: #008080; font-weight: bold\">0.03149443792571934</span>\n",
       "</pre>\n"
      ],
      "text/plain": [
       "\u001b[1;31mEval:\u001b[0m RMSE ATE \u001b[1m[\u001b[0mm\u001b[1m]\u001b[0m \u001b[1;36m0.03149443792571934\u001b[0m\n"
      ]
     },
     "metadata": {},
     "output_type": "display_data"
    },
    {
     "data": {
      "text/html": [
       "<pre style=\"white-space:pre;overflow-x:auto;line-height:normal;font-family:Menlo,'DejaVu Sans Mono',consolas,'Courier New',monospace\"><span style=\"color: #008000; text-decoration-color: #008000; font-weight: bold\">MonoGS:</span> Evaluating ATE at frame:  <span style=\"color: #008080; text-decoration-color: #008080; font-weight: bold\">1489</span>\n",
       "</pre>\n"
      ],
      "text/plain": [
       "\u001b[1;32mMonoGS:\u001b[0m Evaluating ATE at frame:  \u001b[1;36m1489\u001b[0m\n"
      ]
     },
     "metadata": {},
     "output_type": "display_data"
    },
    {
     "data": {
      "text/html": [
       "<pre style=\"white-space:pre;overflow-x:auto;line-height:normal;font-family:Menlo,'DejaVu Sans Mono',consolas,'Courier New',monospace\"><span style=\"color: #800000; text-decoration-color: #800000; font-weight: bold\">Eval:</span> RMSE ATE <span style=\"font-weight: bold\">[</span>m<span style=\"font-weight: bold\">]</span> <span style=\"color: #008080; text-decoration-color: #008080; font-weight: bold\">0.03210240623437857</span>\n",
       "</pre>\n"
      ],
      "text/plain": [
       "\u001b[1;31mEval:\u001b[0m RMSE ATE \u001b[1m[\u001b[0mm\u001b[1m]\u001b[0m \u001b[1;36m0.03210240623437857\u001b[0m\n"
      ]
     },
     "metadata": {},
     "output_type": "display_data"
    },
    {
     "name": "stdout",
     "output_type": "stream",
     "text": [
      "MonoGS: Resetting the opacity of non-visible Gaussians\n"
     ]
    },
    {
     "data": {
      "text/html": [
       "<pre style=\"white-space:pre;overflow-x:auto;line-height:normal;font-family:Menlo,'DejaVu Sans Mono',consolas,'Courier New',monospace\"><span style=\"color: #008000; text-decoration-color: #008000; font-weight: bold\">MonoGS:</span> Evaluating ATE at frame:  <span style=\"color: #008080; text-decoration-color: #008080; font-weight: bold\">1608</span>\n",
       "</pre>\n"
      ],
      "text/plain": [
       "\u001b[1;32mMonoGS:\u001b[0m Evaluating ATE at frame:  \u001b[1;36m1608\u001b[0m\n"
      ]
     },
     "metadata": {},
     "output_type": "display_data"
    },
    {
     "data": {
      "text/html": [
       "<pre style=\"white-space:pre;overflow-x:auto;line-height:normal;font-family:Menlo,'DejaVu Sans Mono',consolas,'Courier New',monospace\"><span style=\"color: #800000; text-decoration-color: #800000; font-weight: bold\">Eval:</span> RMSE ATE <span style=\"font-weight: bold\">[</span>m<span style=\"font-weight: bold\">]</span> <span style=\"color: #008080; text-decoration-color: #008080; font-weight: bold\">0.03302471454023816</span>\n",
       "</pre>\n"
      ],
      "text/plain": [
       "\u001b[1;31mEval:\u001b[0m RMSE ATE \u001b[1m[\u001b[0mm\u001b[1m]\u001b[0m \u001b[1;36m0.03302471454023816\u001b[0m\n"
      ]
     },
     "metadata": {},
     "output_type": "display_data"
    },
    {
     "data": {
      "text/html": [
       "<pre style=\"white-space:pre;overflow-x:auto;line-height:normal;font-family:Menlo,'DejaVu Sans Mono',consolas,'Courier New',monospace\"><span style=\"color: #008000; text-decoration-color: #008000; font-weight: bold\">MonoGS:</span> Evaluating ATE at frame:  <span style=\"color: #008080; text-decoration-color: #008080; font-weight: bold\">1722</span>\n",
       "</pre>\n"
      ],
      "text/plain": [
       "\u001b[1;32mMonoGS:\u001b[0m Evaluating ATE at frame:  \u001b[1;36m1722\u001b[0m\n"
      ]
     },
     "metadata": {},
     "output_type": "display_data"
    },
    {
     "data": {
      "text/html": [
       "<pre style=\"white-space:pre;overflow-x:auto;line-height:normal;font-family:Menlo,'DejaVu Sans Mono',consolas,'Courier New',monospace\"><span style=\"color: #800000; text-decoration-color: #800000; font-weight: bold\">Eval:</span> RMSE ATE <span style=\"font-weight: bold\">[</span>m<span style=\"font-weight: bold\">]</span> <span style=\"color: #008080; text-decoration-color: #008080; font-weight: bold\">0.03475147608843085</span>\n",
       "</pre>\n"
      ],
      "text/plain": [
       "\u001b[1;31mEval:\u001b[0m RMSE ATE \u001b[1m[\u001b[0mm\u001b[1m]\u001b[0m \u001b[1;36m0.03475147608843085\u001b[0m\n"
      ]
     },
     "metadata": {},
     "output_type": "display_data"
    },
    {
     "data": {
      "text/html": [
       "<pre style=\"white-space:pre;overflow-x:auto;line-height:normal;font-family:Menlo,'DejaVu Sans Mono',consolas,'Courier New',monospace\"><span style=\"color: #008000; text-decoration-color: #008000; font-weight: bold\">MonoGS:</span> Evaluating ATE at frame:  <span style=\"color: #008080; text-decoration-color: #008080; font-weight: bold\">1830</span>\n",
       "</pre>\n"
      ],
      "text/plain": [
       "\u001b[1;32mMonoGS:\u001b[0m Evaluating ATE at frame:  \u001b[1;36m1830\u001b[0m\n"
      ]
     },
     "metadata": {},
     "output_type": "display_data"
    },
    {
     "data": {
      "text/html": [
       "<pre style=\"white-space:pre;overflow-x:auto;line-height:normal;font-family:Menlo,'DejaVu Sans Mono',consolas,'Courier New',monospace\"><span style=\"color: #800000; text-decoration-color: #800000; font-weight: bold\">Eval:</span> RMSE ATE <span style=\"font-weight: bold\">[</span>m<span style=\"font-weight: bold\">]</span> <span style=\"color: #008080; text-decoration-color: #008080; font-weight: bold\">0.03648544748741047</span>\n",
       "</pre>\n"
      ],
      "text/plain": [
       "\u001b[1;31mEval:\u001b[0m RMSE ATE \u001b[1m[\u001b[0mm\u001b[1m]\u001b[0m \u001b[1;36m0.03648544748741047\u001b[0m\n"
      ]
     },
     "metadata": {},
     "output_type": "display_data"
    },
    {
     "name": "stdout",
     "output_type": "stream",
     "text": [
      "MonoGS: Resetting the opacity of non-visible Gaussians\n"
     ]
    },
    {
     "data": {
      "text/html": [
       "<pre style=\"white-space:pre;overflow-x:auto;line-height:normal;font-family:Menlo,'DejaVu Sans Mono',consolas,'Courier New',monospace\"><span style=\"color: #008000; text-decoration-color: #008000; font-weight: bold\">MonoGS:</span> Evaluating ATE at frame:  <span style=\"color: #008080; text-decoration-color: #008080; font-weight: bold\">1924</span>\n",
       "</pre>\n"
      ],
      "text/plain": [
       "\u001b[1;32mMonoGS:\u001b[0m Evaluating ATE at frame:  \u001b[1;36m1924\u001b[0m\n"
      ]
     },
     "metadata": {},
     "output_type": "display_data"
    },
    {
     "data": {
      "text/html": [
       "<pre style=\"white-space:pre;overflow-x:auto;line-height:normal;font-family:Menlo,'DejaVu Sans Mono',consolas,'Courier New',monospace\"><span style=\"color: #800000; text-decoration-color: #800000; font-weight: bold\">Eval:</span> RMSE ATE <span style=\"font-weight: bold\">[</span>m<span style=\"font-weight: bold\">]</span> <span style=\"color: #008080; text-decoration-color: #008080; font-weight: bold\">0.037063611244131524</span>\n",
       "</pre>\n"
      ],
      "text/plain": [
       "\u001b[1;31mEval:\u001b[0m RMSE ATE \u001b[1m[\u001b[0mm\u001b[1m]\u001b[0m \u001b[1;36m0.037063611244131524\u001b[0m\n"
      ]
     },
     "metadata": {},
     "output_type": "display_data"
    },
    {
     "data": {
      "text/html": [
       "<pre style=\"white-space:pre;overflow-x:auto;line-height:normal;font-family:Menlo,'DejaVu Sans Mono',consolas,'Courier New',monospace\"><span style=\"color: #008000; text-decoration-color: #008000; font-weight: bold\">MonoGS:</span> Evaluating ATE at frame:  <span style=\"color: #008080; text-decoration-color: #008080; font-weight: bold\">2005</span>\n",
       "</pre>\n"
      ],
      "text/plain": [
       "\u001b[1;32mMonoGS:\u001b[0m Evaluating ATE at frame:  \u001b[1;36m2005\u001b[0m\n"
      ]
     },
     "metadata": {},
     "output_type": "display_data"
    },
    {
     "data": {
      "text/html": [
       "<pre style=\"white-space:pre;overflow-x:auto;line-height:normal;font-family:Menlo,'DejaVu Sans Mono',consolas,'Courier New',monospace\"><span style=\"color: #800000; text-decoration-color: #800000; font-weight: bold\">Eval:</span> RMSE ATE <span style=\"font-weight: bold\">[</span>m<span style=\"font-weight: bold\">]</span> <span style=\"color: #008080; text-decoration-color: #008080; font-weight: bold\">0.03700632654100409</span>\n",
       "</pre>\n"
      ],
      "text/plain": [
       "\u001b[1;31mEval:\u001b[0m RMSE ATE \u001b[1m[\u001b[0mm\u001b[1m]\u001b[0m \u001b[1;36m0.03700632654100409\u001b[0m\n"
      ]
     },
     "metadata": {},
     "output_type": "display_data"
    },
    {
     "name": "stderr",
     "output_type": "stream",
     "text": [
      "/home/yzcheng/MonoGS/utils/eval_utils.py:50: RuntimeWarning: More than 20 figures have been opened. Figures created through the pyplot interface (`matplotlib.pyplot.figure`) are retained until explicitly closed and may consume too much memory. (To control this warning, see the rcParam `figure.max_open_warning`).\n",
      "  fig = plt.figure()\n"
     ]
    },
    {
     "data": {
      "text/html": [
       "<pre style=\"white-space:pre;overflow-x:auto;line-height:normal;font-family:Menlo,'DejaVu Sans Mono',consolas,'Courier New',monospace\"><span style=\"color: #008000; text-decoration-color: #008000; font-weight: bold\">MonoGS:</span> Evaluating ATE at frame:  <span style=\"color: #008080; text-decoration-color: #008080; font-weight: bold\">2102</span>\n",
       "</pre>\n"
      ],
      "text/plain": [
       "\u001b[1;32mMonoGS:\u001b[0m Evaluating ATE at frame:  \u001b[1;36m2102\u001b[0m\n"
      ]
     },
     "metadata": {},
     "output_type": "display_data"
    },
    {
     "data": {
      "text/html": [
       "<pre style=\"white-space:pre;overflow-x:auto;line-height:normal;font-family:Menlo,'DejaVu Sans Mono',consolas,'Courier New',monospace\"><span style=\"color: #800000; text-decoration-color: #800000; font-weight: bold\">Eval:</span> RMSE ATE <span style=\"font-weight: bold\">[</span>m<span style=\"font-weight: bold\">]</span> <span style=\"color: #008080; text-decoration-color: #008080; font-weight: bold\">0.03690774263870112</span>\n",
       "</pre>\n"
      ],
      "text/plain": [
       "\u001b[1;31mEval:\u001b[0m RMSE ATE \u001b[1m[\u001b[0mm\u001b[1m]\u001b[0m \u001b[1;36m0.03690774263870112\u001b[0m\n"
      ]
     },
     "metadata": {},
     "output_type": "display_data"
    },
    {
     "name": "stdout",
     "output_type": "stream",
     "text": [
      "MonoGS: Resetting the opacity of non-visible Gaussians\n"
     ]
    },
    {
     "data": {
      "text/html": [
       "<pre style=\"white-space:pre;overflow-x:auto;line-height:normal;font-family:Menlo,'DejaVu Sans Mono',consolas,'Courier New',monospace\"><span style=\"color: #008000; text-decoration-color: #008000; font-weight: bold\">MonoGS:</span> Evaluating ATE at frame:  <span style=\"color: #008080; text-decoration-color: #008080; font-weight: bold\">2220</span>\n",
       "</pre>\n"
      ],
      "text/plain": [
       "\u001b[1;32mMonoGS:\u001b[0m Evaluating ATE at frame:  \u001b[1;36m2220\u001b[0m\n"
      ]
     },
     "metadata": {},
     "output_type": "display_data"
    },
    {
     "data": {
      "text/html": [
       "<pre style=\"white-space:pre;overflow-x:auto;line-height:normal;font-family:Menlo,'DejaVu Sans Mono',consolas,'Courier New',monospace\"><span style=\"color: #800000; text-decoration-color: #800000; font-weight: bold\">Eval:</span> RMSE ATE <span style=\"font-weight: bold\">[</span>m<span style=\"font-weight: bold\">]</span> <span style=\"color: #008080; text-decoration-color: #008080; font-weight: bold\">0.037297562088452724</span>\n",
       "</pre>\n"
      ],
      "text/plain": [
       "\u001b[1;31mEval:\u001b[0m RMSE ATE \u001b[1m[\u001b[0mm\u001b[1m]\u001b[0m \u001b[1;36m0.037297562088452724\u001b[0m\n"
      ]
     },
     "metadata": {},
     "output_type": "display_data"
    },
    {
     "data": {
      "text/html": [
       "<pre style=\"white-space:pre;overflow-x:auto;line-height:normal;font-family:Menlo,'DejaVu Sans Mono',consolas,'Courier New',monospace\"><span style=\"color: #008000; text-decoration-color: #008000; font-weight: bold\">MonoGS:</span> Evaluating ATE at frame:  <span style=\"color: #008080; text-decoration-color: #008080; font-weight: bold\">2409</span>\n",
       "</pre>\n"
      ],
      "text/plain": [
       "\u001b[1;32mMonoGS:\u001b[0m Evaluating ATE at frame:  \u001b[1;36m2409\u001b[0m\n"
      ]
     },
     "metadata": {},
     "output_type": "display_data"
    },
    {
     "data": {
      "text/html": [
       "<pre style=\"white-space:pre;overflow-x:auto;line-height:normal;font-family:Menlo,'DejaVu Sans Mono',consolas,'Courier New',monospace\"><span style=\"color: #800000; text-decoration-color: #800000; font-weight: bold\">Eval:</span> RMSE ATE <span style=\"font-weight: bold\">[</span>m<span style=\"font-weight: bold\">]</span> <span style=\"color: #008080; text-decoration-color: #008080; font-weight: bold\">0.03794572222894327</span>\n",
       "</pre>\n"
      ],
      "text/plain": [
       "\u001b[1;31mEval:\u001b[0m RMSE ATE \u001b[1m[\u001b[0mm\u001b[1m]\u001b[0m \u001b[1;36m0.03794572222894327\u001b[0m\n"
      ]
     },
     "metadata": {},
     "output_type": "display_data"
    },
    {
     "data": {
      "text/html": [
       "<pre style=\"white-space:pre;overflow-x:auto;line-height:normal;font-family:Menlo,'DejaVu Sans Mono',consolas,'Courier New',monospace\"><span style=\"color: #800000; text-decoration-color: #800000; font-weight: bold\">Eval:</span> RMSE ATE <span style=\"font-weight: bold\">[</span>m<span style=\"font-weight: bold\">]</span> <span style=\"color: #008080; text-decoration-color: #008080; font-weight: bold\">0.037902533137323724</span>\n",
       "</pre>\n"
      ],
      "text/plain": [
       "\u001b[1;31mEval:\u001b[0m RMSE ATE \u001b[1m[\u001b[0mm\u001b[1m]\u001b[0m \u001b[1;36m0.037902533137323724\u001b[0m\n"
      ]
     },
     "metadata": {},
     "output_type": "display_data"
    },
    {
     "data": {
      "text/html": [
       "<pre style=\"white-space:pre;overflow-x:auto;line-height:normal;font-family:Menlo,'DejaVu Sans Mono',consolas,'Courier New',monospace\"><span style=\"color: #800000; text-decoration-color: #800000; font-weight: bold\">Eval:</span> Total time <span style=\"color: #008080; text-decoration-color: #008080; font-weight: bold\">1419.241</span>\n",
       "</pre>\n"
      ],
      "text/plain": [
       "\u001b[1;31mEval:\u001b[0m Total time \u001b[1;36m1419.241\u001b[0m\n"
      ]
     },
     "metadata": {},
     "output_type": "display_data"
    },
    {
     "data": {
      "text/html": [
       "<pre style=\"white-space:pre;overflow-x:auto;line-height:normal;font-family:Menlo,'DejaVu Sans Mono',consolas,'Courier New',monospace\"><span style=\"color: #800000; text-decoration-color: #800000; font-weight: bold\">Eval:</span> Total FPS <span style=\"color: #008080; text-decoration-color: #008080; font-weight: bold\">1.7720739465672144</span>\n",
       "</pre>\n"
      ],
      "text/plain": [
       "\u001b[1;31mEval:\u001b[0m Total FPS \u001b[1;36m1.7720739465672144\u001b[0m\n"
      ]
     },
     "metadata": {},
     "output_type": "display_data"
    },
    {
     "data": {
      "text/html": [
       "<pre style=\"white-space:pre;overflow-x:auto;line-height:normal;font-family:Menlo,'DejaVu Sans Mono',consolas,'Courier New',monospace\"><span style=\"color: #008000; text-decoration-color: #008000; font-weight: bold\">MonoGS:</span> Backend stopped and joined the main thread\n",
       "</pre>\n"
      ],
      "text/plain": [
       "\u001b[1;32mMonoGS:\u001b[0m Backend stopped and joined the main thread\n"
      ]
     },
     "metadata": {},
     "output_type": "display_data"
    },
    {
     "name": "stdout",
     "output_type": "stream",
     "text": [
      "GUI: Received terminate signal\n",
      "GUI: Closing Visualization\n"
     ]
    },
    {
     "ename": "KeyboardInterrupt",
     "evalue": "",
     "output_type": "error",
     "traceback": [
      "\u001b[0;31m---------------------------------------------------------------------------\u001b[0m",
      "\u001b[0;31mKeyboardInterrupt\u001b[0m                         Traceback (most recent call last)",
      "\u001b[0;32m/tmp/ipykernel_14351/891902515.py\u001b[0m in \u001b[0;36m<module>\u001b[0;34m\u001b[0m\n\u001b[1;32m     56\u001b[0m         \u001b[0mwandb\u001b[0m\u001b[0;34m.\u001b[0m\u001b[0mdefine_metric\u001b[0m\u001b[0;34m(\u001b[0m\u001b[0;34m\"ate*\"\u001b[0m\u001b[0;34m,\u001b[0m \u001b[0mstep_metric\u001b[0m\u001b[0;34m=\u001b[0m\u001b[0;34m\"frame_idx\"\u001b[0m\u001b[0;34m)\u001b[0m\u001b[0;34m\u001b[0m\u001b[0;34m\u001b[0m\u001b[0m\n\u001b[1;32m     57\u001b[0m \u001b[0;34m\u001b[0m\u001b[0m\n\u001b[0;32m---> 58\u001b[0;31m     \u001b[0mslam\u001b[0m \u001b[0;34m=\u001b[0m \u001b[0mSLAM\u001b[0m\u001b[0;34m(\u001b[0m\u001b[0mconfig\u001b[0m\u001b[0;34m,\u001b[0m \u001b[0msave_dir\u001b[0m\u001b[0;34m=\u001b[0m\u001b[0msave_dir\u001b[0m\u001b[0;34m)\u001b[0m\u001b[0;34m\u001b[0m\u001b[0;34m\u001b[0m\u001b[0m\n\u001b[0m\u001b[1;32m     59\u001b[0m \u001b[0;34m\u001b[0m\u001b[0m\n\u001b[1;32m     60\u001b[0m     \u001b[0mslam\u001b[0m\u001b[0;34m.\u001b[0m\u001b[0mrun\u001b[0m\u001b[0;34m(\u001b[0m\u001b[0;34m)\u001b[0m\u001b[0;34m\u001b[0m\u001b[0;34m\u001b[0m\u001b[0m\n",
      "\u001b[0;32m/tmp/ipykernel_14351/2458359565.py\u001b[0m in \u001b[0;36m__init__\u001b[0;34m(self, config, save_dir)\u001b[0m\n\u001b[1;32m    193\u001b[0m         \u001b[0;32mif\u001b[0m \u001b[0mself\u001b[0m\u001b[0;34m.\u001b[0m\u001b[0muse_gui\u001b[0m\u001b[0;34m:\u001b[0m\u001b[0;34m\u001b[0m\u001b[0;34m\u001b[0m\u001b[0m\n\u001b[1;32m    194\u001b[0m             \u001b[0mq_main2vis\u001b[0m\u001b[0;34m.\u001b[0m\u001b[0mput\u001b[0m\u001b[0;34m(\u001b[0m\u001b[0mgui_utils\u001b[0m\u001b[0;34m.\u001b[0m\u001b[0mGaussianPacket\u001b[0m\u001b[0;34m(\u001b[0m\u001b[0mfinish\u001b[0m\u001b[0;34m=\u001b[0m\u001b[0;32mTrue\u001b[0m\u001b[0;34m)\u001b[0m\u001b[0;34m)\u001b[0m\u001b[0;34m\u001b[0m\u001b[0;34m\u001b[0m\u001b[0m\n\u001b[0;32m--> 195\u001b[0;31m             \u001b[0mgui_process\u001b[0m\u001b[0;34m.\u001b[0m\u001b[0mjoin\u001b[0m\u001b[0;34m(\u001b[0m\u001b[0;34m)\u001b[0m\u001b[0;34m\u001b[0m\u001b[0;34m\u001b[0m\u001b[0m\n\u001b[0m\u001b[1;32m    196\u001b[0m             \u001b[0mLog\u001b[0m\u001b[0;34m(\u001b[0m\u001b[0;34m\"GUI Stopped and joined the main thread\"\u001b[0m\u001b[0;34m)\u001b[0m\u001b[0;34m\u001b[0m\u001b[0;34m\u001b[0m\u001b[0m\n\u001b[1;32m    197\u001b[0m \u001b[0;34m\u001b[0m\u001b[0m\n",
      "\u001b[0;32m~/anaconda3/envs/MonoGS/lib/python3.7/multiprocessing/process.py\u001b[0m in \u001b[0;36mjoin\u001b[0;34m(self, timeout)\u001b[0m\n\u001b[1;32m    138\u001b[0m         \u001b[0;32massert\u001b[0m \u001b[0mself\u001b[0m\u001b[0;34m.\u001b[0m\u001b[0m_parent_pid\u001b[0m \u001b[0;34m==\u001b[0m \u001b[0mos\u001b[0m\u001b[0;34m.\u001b[0m\u001b[0mgetpid\u001b[0m\u001b[0;34m(\u001b[0m\u001b[0;34m)\u001b[0m\u001b[0;34m,\u001b[0m \u001b[0;34m'can only join a child process'\u001b[0m\u001b[0;34m\u001b[0m\u001b[0;34m\u001b[0m\u001b[0m\n\u001b[1;32m    139\u001b[0m         \u001b[0;32massert\u001b[0m \u001b[0mself\u001b[0m\u001b[0;34m.\u001b[0m\u001b[0m_popen\u001b[0m \u001b[0;32mis\u001b[0m \u001b[0;32mnot\u001b[0m \u001b[0;32mNone\u001b[0m\u001b[0;34m,\u001b[0m \u001b[0;34m'can only join a started process'\u001b[0m\u001b[0;34m\u001b[0m\u001b[0;34m\u001b[0m\u001b[0m\n\u001b[0;32m--> 140\u001b[0;31m         \u001b[0mres\u001b[0m \u001b[0;34m=\u001b[0m \u001b[0mself\u001b[0m\u001b[0;34m.\u001b[0m\u001b[0m_popen\u001b[0m\u001b[0;34m.\u001b[0m\u001b[0mwait\u001b[0m\u001b[0;34m(\u001b[0m\u001b[0mtimeout\u001b[0m\u001b[0;34m)\u001b[0m\u001b[0;34m\u001b[0m\u001b[0;34m\u001b[0m\u001b[0m\n\u001b[0m\u001b[1;32m    141\u001b[0m         \u001b[0;32mif\u001b[0m \u001b[0mres\u001b[0m \u001b[0;32mis\u001b[0m \u001b[0;32mnot\u001b[0m \u001b[0;32mNone\u001b[0m\u001b[0;34m:\u001b[0m\u001b[0;34m\u001b[0m\u001b[0;34m\u001b[0m\u001b[0m\n\u001b[1;32m    142\u001b[0m             \u001b[0m_children\u001b[0m\u001b[0;34m.\u001b[0m\u001b[0mdiscard\u001b[0m\u001b[0;34m(\u001b[0m\u001b[0mself\u001b[0m\u001b[0;34m)\u001b[0m\u001b[0;34m\u001b[0m\u001b[0;34m\u001b[0m\u001b[0m\n",
      "\u001b[0;32m~/anaconda3/envs/MonoGS/lib/python3.7/multiprocessing/popen_fork.py\u001b[0m in \u001b[0;36mwait\u001b[0;34m(self, timeout)\u001b[0m\n\u001b[1;32m     46\u001b[0m                     \u001b[0;32mreturn\u001b[0m \u001b[0;32mNone\u001b[0m\u001b[0;34m\u001b[0m\u001b[0;34m\u001b[0m\u001b[0m\n\u001b[1;32m     47\u001b[0m             \u001b[0;31m# This shouldn't block if wait() returned successfully.\u001b[0m\u001b[0;34m\u001b[0m\u001b[0;34m\u001b[0m\u001b[0;34m\u001b[0m\u001b[0m\n\u001b[0;32m---> 48\u001b[0;31m             \u001b[0;32mreturn\u001b[0m \u001b[0mself\u001b[0m\u001b[0;34m.\u001b[0m\u001b[0mpoll\u001b[0m\u001b[0;34m(\u001b[0m\u001b[0mos\u001b[0m\u001b[0;34m.\u001b[0m\u001b[0mWNOHANG\u001b[0m \u001b[0;32mif\u001b[0m \u001b[0mtimeout\u001b[0m \u001b[0;34m==\u001b[0m \u001b[0;36m0.0\u001b[0m \u001b[0;32melse\u001b[0m \u001b[0;36m0\u001b[0m\u001b[0;34m)\u001b[0m\u001b[0;34m\u001b[0m\u001b[0;34m\u001b[0m\u001b[0m\n\u001b[0m\u001b[1;32m     49\u001b[0m         \u001b[0;32mreturn\u001b[0m \u001b[0mself\u001b[0m\u001b[0;34m.\u001b[0m\u001b[0mreturncode\u001b[0m\u001b[0;34m\u001b[0m\u001b[0;34m\u001b[0m\u001b[0m\n\u001b[1;32m     50\u001b[0m \u001b[0;34m\u001b[0m\u001b[0m\n",
      "\u001b[0;32m~/anaconda3/envs/MonoGS/lib/python3.7/multiprocessing/popen_fork.py\u001b[0m in \u001b[0;36mpoll\u001b[0;34m(self, flag)\u001b[0m\n\u001b[1;32m     26\u001b[0m         \u001b[0;32mif\u001b[0m \u001b[0mself\u001b[0m\u001b[0;34m.\u001b[0m\u001b[0mreturncode\u001b[0m \u001b[0;32mis\u001b[0m \u001b[0;32mNone\u001b[0m\u001b[0;34m:\u001b[0m\u001b[0;34m\u001b[0m\u001b[0;34m\u001b[0m\u001b[0m\n\u001b[1;32m     27\u001b[0m             \u001b[0;32mtry\u001b[0m\u001b[0;34m:\u001b[0m\u001b[0;34m\u001b[0m\u001b[0;34m\u001b[0m\u001b[0m\n\u001b[0;32m---> 28\u001b[0;31m                 \u001b[0mpid\u001b[0m\u001b[0;34m,\u001b[0m \u001b[0msts\u001b[0m \u001b[0;34m=\u001b[0m \u001b[0mos\u001b[0m\u001b[0;34m.\u001b[0m\u001b[0mwaitpid\u001b[0m\u001b[0;34m(\u001b[0m\u001b[0mself\u001b[0m\u001b[0;34m.\u001b[0m\u001b[0mpid\u001b[0m\u001b[0;34m,\u001b[0m \u001b[0mflag\u001b[0m\u001b[0;34m)\u001b[0m\u001b[0;34m\u001b[0m\u001b[0;34m\u001b[0m\u001b[0m\n\u001b[0m\u001b[1;32m     29\u001b[0m             \u001b[0;32mexcept\u001b[0m \u001b[0mOSError\u001b[0m \u001b[0;32mas\u001b[0m \u001b[0me\u001b[0m\u001b[0;34m:\u001b[0m\u001b[0;34m\u001b[0m\u001b[0;34m\u001b[0m\u001b[0m\n\u001b[1;32m     30\u001b[0m                 \u001b[0;31m# Child process not yet created. See #1731717\u001b[0m\u001b[0;34m\u001b[0m\u001b[0;34m\u001b[0m\u001b[0;34m\u001b[0m\u001b[0m\n",
      "\u001b[0;31mKeyboardInterrupt\u001b[0m: "
     ]
    }
   ],
   "source": [
    "if __name__ == \"__main__\":\n",
    "    # Simulate command line arguments\n",
    "    sys.argv = [\n",
    "        \"slam.py\", \n",
    "        \"--config\", \"configs/mono/tum/fr3_office.yaml\"\n",
    "    ]\n",
    "\n",
    "    # Set up command line argument parser\n",
    "    parser = ArgumentParser(description=\"Training script parameters\")\n",
    "    parser.add_argument(\"--config\", type=str, required=True, help=\"Path to the config file\")\n",
    "    parser.add_argument(\"--eval\", action=\"store_true\", help=\"Run in evaluation mode\")\n",
    "\n",
    "    args = parser.parse_args()\n",
    "\n",
    "    mp.set_start_method(\"spawn\")\n",
    "\n",
    "    with open(args.config, \"r\") as yml:\n",
    "        config = yaml.safe_load(yml)\n",
    "\n",
    "    config = load_config(args.config)\n",
    "    save_dir = None\n",
    "\n",
    "    if args.eval:\n",
    "        Log(\"Running MonoGS in Evaluation Mode\")\n",
    "        Log(\"Following config will be overridden\")\n",
    "        Log(\"\\tsave_results=True\")\n",
    "        config[\"Results\"][\"save_results\"] = True\n",
    "        Log(\"\\tuse_gui=False\")\n",
    "        config[\"Results\"][\"use_gui\"] = False\n",
    "        Log(\"\\teval_rendering=True\")\n",
    "        config[\"Results\"][\"eval_rendering\"] = True\n",
    "        Log(\"\\tuse_wandb=True\")\n",
    "        config[\"Results\"][\"use_wandb\"] = True\n",
    "\n",
    "    if config[\"Results\"][\"save_results\"]:\n",
    "        mkdir_p(config[\"Results\"][\"save_dir\"])\n",
    "        current_datetime = datetime.now().strftime(\"%Y-%m-%d-%H-%M-%S\")\n",
    "        path = config[\"Dataset\"][\"dataset_path\"].split(\"/\")\n",
    "        save_dir = os.path.join(\n",
    "            config[\"Results\"][\"save_dir\"], path[-3] + \"_\" + path[-2], current_datetime\n",
    "        )\n",
    "        tmp = args.config\n",
    "        tmp = tmp.split(\".\")[0]\n",
    "        config[\"Results\"][\"save_dir\"] = save_dir\n",
    "        mkdir_p(save_dir)\n",
    "        with open(os.path.join(save_dir, \"config.yml\"), \"w\") as file:\n",
    "            documents = yaml.dump(config, file)\n",
    "        Log(\"saving results in \" + save_dir)\n",
    "        run = wandb.init(\n",
    "            project=\"MonoGS\",\n",
    "            name=f\"{tmp}_{current_datetime}\",\n",
    "            config=config,\n",
    "            mode=None if config[\"Results\"][\"use_wandb\"] else \"disabled\",\n",
    "        )\n",
    "        wandb.define_metric(\"frame_idx\")\n",
    "        wandb.define_metric(\"ate*\", step_metric=\"frame_idx\")\n",
    "\n",
    "    slam = SLAM(config, save_dir=save_dir)\n",
    "\n",
    "    slam.run()\n",
    "    wandb.finish()\n",
    "    save_gaussians(slam.gaussians, slam.save_dir, \"final_after_opt\", final=True)\n",
    "\n",
    "    # All done\n",
    "    Log(\"Done.\")\n"
   ]
  },
  {
   "cell_type": "code",
   "execution_count": 72,
   "id": "c9b157d2",
   "metadata": {},
   "outputs": [
    {
     "data": {
      "text/plain": [
       "tensor([], device='cuda:0')"
      ]
     },
     "execution_count": 72,
     "metadata": {},
     "output_type": "execute_result"
    }
   ],
   "source": [
    "Model.get_xyz"
   ]
  },
  {
   "cell_type": "code",
   "execution_count": null,
   "id": "d966a325",
   "metadata": {},
   "outputs": [],
   "source": []
  }
 ],
 "metadata": {
  "kernelspec": {
   "display_name": "Python 3 (ipykernel)",
   "language": "python",
   "name": "python3"
  },
  "language_info": {
   "codemirror_mode": {
    "name": "ipython",
    "version": 3
   },
   "file_extension": ".py",
   "mimetype": "text/x-python",
   "name": "python",
   "nbconvert_exporter": "python",
   "pygments_lexer": "ipython3",
   "version": "3.7.12"
  }
 },
 "nbformat": 4,
 "nbformat_minor": 5
}
